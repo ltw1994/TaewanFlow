{
 "cells": [
  {
   "cell_type": "code",
   "execution_count": 1,
   "metadata": {},
   "outputs": [
    {
     "name": "stderr",
     "output_type": "stream",
     "text": [
      "/anaconda3/lib/python3.6/site-packages/h5py/__init__.py:36: FutureWarning: Conversion of the second argument of issubdtype from `float` to `np.floating` is deprecated. In future, it will be treated as `np.float64 == np.dtype(float).type`.\n",
      "  from ._conv import register_converters as _register_converters\n"
     ]
    }
   ],
   "source": [
    "import numpy as np\n",
    "import tensorflow as tf"
   ]
  },
  {
   "cell_type": "code",
   "execution_count": 2,
   "metadata": {},
   "outputs": [],
   "source": [
    "sess = tf.Session()"
   ]
  },
  {
   "cell_type": "code",
   "execution_count": 6,
   "metadata": {},
   "outputs": [
    {
     "name": "stdout",
     "output_type": "stream",
     "text": [
      "Type is     \n",
      " <class 'tensorflow.python.framework.ops.Tensor'>\n",
      "Value is   \n",
      " Tensor(\"Const_1:0\", shape=(), dtype=string)\n"
     ]
    }
   ],
   "source": [
    "def print_tf(x) :\n",
    "    print(\"Type is     \\n\", type(x))\n",
    "    print(\"Value is   \\n\", x)\n",
    "hello = tf.constant(\"Hellor World !\")\n",
    "print_tf(hello)"
   ]
  },
  {
   "cell_type": "code",
   "execution_count": 7,
   "metadata": {},
   "outputs": [
    {
     "name": "stdout",
     "output_type": "stream",
     "text": [
      "Type is     \n",
      " <class 'bytes'>\n",
      "Value is   \n",
      " b'Hellor World !'\n"
     ]
    }
   ],
   "source": [
    "hello_tf = sess.run(hello)\n",
    "print_tf(hello_tf)"
   ]
  },
  {
   "cell_type": "code",
   "execution_count": 9,
   "metadata": {},
   "outputs": [
    {
     "name": "stdout",
     "output_type": "stream",
     "text": [
      "Type is     \n",
      " <class 'numpy.float32'>\n",
      "Value is   \n",
      " 1.5\n",
      "Type is     \n",
      " <class 'numpy.float32'>\n",
      "Value is   \n",
      " 2.5\n"
     ]
    }
   ],
   "source": [
    "a = tf.constant(1.5)\n",
    "b = tf.constant(2.5)\n",
    "a_tf = sess.run(a)\n",
    "b_tf = sess.run(b)\n",
    "print_tf(a_tf)\n",
    "print_tf(b_tf)"
   ]
  },
  {
   "cell_type": "code",
   "execution_count": 13,
   "metadata": {},
   "outputs": [
    {
     "name": "stdout",
     "output_type": "stream",
     "text": [
      "Type is     \n",
      " <class 'numpy.float32'>\n",
      "Value is   \n",
      " 4.0\n"
     ]
    }
   ],
   "source": [
    "a_add_b = tf.add(a,b)\n",
    "a_add_b_tf = sess.run(a_add_b)\n",
    "print_tf(a_add_b_tf)"
   ]
  },
  {
   "cell_type": "code",
   "execution_count": 15,
   "metadata": {},
   "outputs": [
    {
     "name": "stdout",
     "output_type": "stream",
     "text": [
      "Type is     \n",
      " <class 'numpy.float32'>\n",
      "Value is   \n",
      " 3.75\n"
     ]
    }
   ],
   "source": [
    "a_mul_b = tf.multiply(a,b)\n",
    "a_mul_b_tf = sess.run(a_mul_b)\n",
    "print_tf(a_mul_b_tf)"
   ]
  },
  {
   "cell_type": "code",
   "execution_count": 17,
   "metadata": {},
   "outputs": [
    {
     "name": "stdout",
     "output_type": "stream",
     "text": [
      "Type is     \n",
      " <class 'tensorflow.python.ops.variables.Variable'>\n",
      "Value is   \n",
      " <tf.Variable 'Variable:0' shape=(5, 2) dtype=float32_ref>\n"
     ]
    }
   ],
   "source": [
    "w = tf.Variable(tf.random_normal([5,2], stddev = 0.1))\n",
    "# random_normal로 초기화\n",
    "print_tf(w)"
   ]
  },
  {
   "cell_type": "code",
   "execution_count": 19,
   "metadata": {},
   "outputs": [
    {
     "name": "stdout",
     "output_type": "stream",
     "text": [
      "Type is     \n",
      " <class 'numpy.ndarray'>\n",
      "Value is   \n",
      " [[-0.02767399 -0.09707633]\n",
      " [ 0.05813966 -0.01140118]\n",
      " [-0.08019255 -0.12393632]\n",
      " [-0.07140013 -0.11957113]\n",
      " [-0.03879268 -0.03876252]]\n"
     ]
    }
   ],
   "source": [
    "init = tf.global_variables_initializer()\n",
    "sess.run(init)\n",
    "w_tf = sess.run(w)\n",
    "print_tf(w_tf)"
   ]
  },
  {
   "cell_type": "code",
   "execution_count": 20,
   "metadata": {},
   "outputs": [
    {
     "name": "stdout",
     "output_type": "stream",
     "text": [
      "Type is     \n",
      " <class 'tensorflow.python.framework.ops.Tensor'>\n",
      "Value is   \n",
      " Tensor(\"Placeholder:0\", shape=(?, 5), dtype=float32)\n"
     ]
    }
   ],
   "source": [
    "x = tf.placeholder(tf.float32, [None,5])\n",
    "print_tf(x)"
   ]
  },
  {
   "cell_type": "code",
   "execution_count": 22,
   "metadata": {},
   "outputs": [
    {
     "name": "stdout",
     "output_type": "stream",
     "text": [
      "Type is     \n",
      " <class 'tensorflow.python.framework.ops.Tensor'>\n",
      "Value is   \n",
      " Tensor(\"MatMul_1:0\", shape=(?, 2), dtype=float32)\n"
     ]
    }
   ],
   "source": [
    "w2 = tf.matmul(x, w)\n",
    "print_tf(w2)"
   ]
  },
  {
   "cell_type": "code",
   "execution_count": 26,
   "metadata": {},
   "outputs": [
    {
     "name": "stdout",
     "output_type": "stream",
     "text": [
      "[[0.81527365 0.02692818 0.21443658 0.14851593 0.69950142]]\n",
      "Type is     \n",
      " <class 'numpy.ndarray'>\n",
      "Value is   \n",
      " [[-0.07593209 -0.15089993]]\n"
     ]
    }
   ],
   "source": [
    "data = np.random.rand(1, 5)\n",
    "print(data)\n",
    "w2_tf = sess.run(w2, feed_dict = {x : data})\n",
    "print_tf(w2_tf)"
   ]
  },
  {
   "cell_type": "code",
   "execution_count": null,
   "metadata": {},
   "outputs": [],
   "source": []
  }
 ],
 "metadata": {
  "kernelspec": {
   "display_name": "Python 3",
   "language": "python",
   "name": "python3"
  },
  "language_info": {
   "codemirror_mode": {
    "name": "ipython",
    "version": 3
   },
   "file_extension": ".py",
   "mimetype": "text/x-python",
   "name": "python",
   "nbconvert_exporter": "python",
   "pygments_lexer": "ipython3",
   "version": "3.6.6"
  }
 },
 "nbformat": 4,
 "nbformat_minor": 2
}
